{
  "metadata": {
    "kernelspec": {
      "language": "python",
      "display_name": "Python 3",
      "name": "python3"
    },
    "language_info": {
      "name": "python",
      "version": "3.10.13",
      "mimetype": "text/x-python",
      "codemirror_mode": {
        "name": "ipython",
        "version": 3
      },
      "pygments_lexer": "ipython3",
      "nbconvert_exporter": "python",
      "file_extension": ".py"
    },
    "kaggle": {
      "accelerator": "gpu",
      "dataSources": [
        {
          "sourceId": 7995592,
          "sourceType": "datasetVersion",
          "datasetId": 4707547
        }
      ],
      "dockerImageVersionId": 30699,
      "isInternetEnabled": true,
      "language": "python",
      "sourceType": "notebook",
      "isGpuEnabled": true
    },
    "colab": {
      "name": "Transfer Learning",
      "provenance": [],
      "include_colab_link": true
    }
  },
  "nbformat_minor": 0,
  "nbformat": 4,
  "cells": [
    {
      "cell_type": "markdown",
      "metadata": {
        "id": "view-in-github",
        "colab_type": "text"
      },
      "source": [
        "<a href=\"https://colab.research.google.com/github/anand-therattil/machine_learning/blob/main/Transfer_Learning.ipynb\" target=\"_parent\"><img src=\"https://colab.research.google.com/assets/colab-badge.svg\" alt=\"Open In Colab\"/></a>"
      ]
    },
    {
      "source": [
        "\n",
        "# IMPORTANT: RUN THIS CELL IN ORDER TO IMPORT YOUR KAGGLE DATA SOURCES\n",
        "# TO THE CORRECT LOCATION (/kaggle/input) IN YOUR NOTEBOOK,\n",
        "# THEN FEEL FREE TO DELETE THIS CELL.\n",
        "# NOTE: THIS NOTEBOOK ENVIRONMENT DIFFERS FROM KAGGLE'S PYTHON\n",
        "# ENVIRONMENT SO THERE MAY BE MISSING LIBRARIES USED BY YOUR\n",
        "# NOTEBOOK.\n",
        "\n",
        "import os\n",
        "import sys\n",
        "from tempfile import NamedTemporaryFile\n",
        "from urllib.request import urlopen\n",
        "from urllib.parse import unquote, urlparse\n",
        "from urllib.error import HTTPError\n",
        "from zipfile import ZipFile\n",
        "import tarfile\n",
        "import shutil\n",
        "\n",
        "CHUNK_SIZE = 40960\n",
        "DATA_SOURCE_MAPPING = 'animal-data:https%3A%2F%2Fstorage.googleapis.com%2Fkaggle-data-sets%2F4707547%2F7995592%2Fbundle%2Farchive.zip%3FX-Goog-Algorithm%3DGOOG4-RSA-SHA256%26X-Goog-Credential%3Dgcp-kaggle-com%2540kaggle-161607.iam.gserviceaccount.com%252F20240505%252Fauto%252Fstorage%252Fgoog4_request%26X-Goog-Date%3D20240505T132817Z%26X-Goog-Expires%3D259200%26X-Goog-SignedHeaders%3Dhost%26X-Goog-Signature%3D160f001b66b988452d3e4ee1370dbb161f81452ea1de9346001266d002d9fc75ff128c6dde30a807c8927bf86f6939cbbde00c8510782bb82e7f961210a43afbefaefc63d06de19b444581c791cf4e44956e8f76d12a1051d1c2ffe4dfe7b2c57e39e5d0f70902a27b7ecf76512f4b4375fc7432300bf72146f32f67f83b7898ed81fefb25eb96c0a866ac1a388ee1513532f1a44452f9b173e062b0c41ab90331204095f3696444bc105c500dc70a632038ac6cbfdfc889e72f5fd98b403088472ea97a87762512e41c54191b87d5be6ff91d4df7fd9152672e856375404ec9a74ca613c478b6784aac2ae6a55dc8752bddfd5ed6f7d63614f6ba195e1476de'\n",
        "\n",
        "KAGGLE_INPUT_PATH='/kaggle/input'\n",
        "KAGGLE_WORKING_PATH='/kaggle/working'\n",
        "KAGGLE_SYMLINK='kaggle'\n",
        "\n",
        "!umount /kaggle/input/ 2> /dev/null\n",
        "shutil.rmtree('/kaggle/input', ignore_errors=True)\n",
        "os.makedirs(KAGGLE_INPUT_PATH, 0o777, exist_ok=True)\n",
        "os.makedirs(KAGGLE_WORKING_PATH, 0o777, exist_ok=True)\n",
        "\n",
        "try:\n",
        "  os.symlink(KAGGLE_INPUT_PATH, os.path.join(\"..\", 'input'), target_is_directory=True)\n",
        "except FileExistsError:\n",
        "  pass\n",
        "try:\n",
        "  os.symlink(KAGGLE_WORKING_PATH, os.path.join(\"..\", 'working'), target_is_directory=True)\n",
        "except FileExistsError:\n",
        "  pass\n",
        "\n",
        "for data_source_mapping in DATA_SOURCE_MAPPING.split(','):\n",
        "    directory, download_url_encoded = data_source_mapping.split(':')\n",
        "    download_url = unquote(download_url_encoded)\n",
        "    filename = urlparse(download_url).path\n",
        "    destination_path = os.path.join(KAGGLE_INPUT_PATH, directory)\n",
        "    try:\n",
        "        with urlopen(download_url) as fileres, NamedTemporaryFile() as tfile:\n",
        "            total_length = fileres.headers['content-length']\n",
        "            print(f'Downloading {directory}, {total_length} bytes compressed')\n",
        "            dl = 0\n",
        "            data = fileres.read(CHUNK_SIZE)\n",
        "            while len(data) > 0:\n",
        "                dl += len(data)\n",
        "                tfile.write(data)\n",
        "                done = int(50 * dl / int(total_length))\n",
        "                sys.stdout.write(f\"\\r[{'=' * done}{' ' * (50-done)}] {dl} bytes downloaded\")\n",
        "                sys.stdout.flush()\n",
        "                data = fileres.read(CHUNK_SIZE)\n",
        "            if filename.endswith('.zip'):\n",
        "              with ZipFile(tfile) as zfile:\n",
        "                zfile.extractall(destination_path)\n",
        "            else:\n",
        "              with tarfile.open(tfile.name) as tarfile:\n",
        "                tarfile.extractall(destination_path)\n",
        "            print(f'\\nDownloaded and uncompressed: {directory}')\n",
        "    except HTTPError as e:\n",
        "        print(f'Failed to load (likely expired) {download_url} to path {destination_path}')\n",
        "        continue\n",
        "    except OSError as e:\n",
        "        print(f'Failed to load {download_url} to path {destination_path}')\n",
        "        continue\n",
        "\n",
        "print('Data source import complete.')\n"
      ],
      "metadata": {
        "id": "qaoq6mx88axK"
      },
      "cell_type": "code",
      "outputs": [],
      "execution_count": null
    },
    {
      "cell_type": "code",
      "source": [
        "# This Python 3 environment comes with many helpful analytics libraries installed\n",
        "# It is defined by the kaggle/python Docker image: https://github.com/kaggle/docker-python\n",
        "# For example, here's several helpful packages to load\n",
        "\n",
        "import numpy as np # linear algebra\n",
        "import pandas as pd # data processing, CSV file I/O (e.g. pd.read_csv)\n",
        "\n",
        "# Input data files are available in the read-only \"../input/\" directory\n",
        "# For example, running this (by clicking run or pressing Shift+Enter) will list all files under the input directory\n",
        "\n",
        "import os\n",
        "for dirname, _, filenames in os.walk('/kaggle/input'):\n",
        "    for filename in filenames:\n",
        "        print(os.path.join(dirname, filename))\n",
        "\n",
        "# You can write up to 20GB to the current directory (/kaggle/working/) that gets preserved as output when you create a version using \"Save & Run All\"\n",
        "# You can also write temporary files to /kaggle/temp/, but they won't be saved outside of the current session"
      ],
      "metadata": {
        "_uuid": "8f2839f25d086af736a60e9eeb907d3b93b6e0e5",
        "_cell_guid": "b1076dfc-b9ad-4769-8c92-a6c4dae69d19",
        "trusted": true,
        "id": "ju74Gctb8axQ"
      },
      "execution_count": null,
      "outputs": []
    },
    {
      "cell_type": "code",
      "source": [
        "import os\n",
        "import numpy as np\n",
        "import matplotlib.pyplot as plt\n",
        "from PIL import Image\n",
        "\n",
        "import torch\n",
        "import torch.nn as nn\n",
        "from torchvision import transforms, models\n"
      ],
      "metadata": {
        "execution": {
          "iopub.status.busy": "2024-05-05T13:02:51.45673Z",
          "iopub.execute_input": "2024-05-05T13:02:51.457099Z",
          "iopub.status.idle": "2024-05-05T13:02:57.075927Z",
          "shell.execute_reply.started": "2024-05-05T13:02:51.457072Z",
          "shell.execute_reply": "2024-05-05T13:02:57.075065Z"
        },
        "trusted": true,
        "id": "wVDlg_SV8axR"
      },
      "execution_count": null,
      "outputs": []
    },
    {
      "cell_type": "code",
      "source": [
        "data_path = '/kaggle/input/animal-data/animal_data/'\n",
        "# filename_structure --> Target_***.jpgs\n",
        "target_mapping= {\"Horse\":0,\"Lion\":1,\"Dog\":2,\"Bear\":3,\"Bird\":4,\"Tiger\":5,\n",
        "                \"Kangaroo\":6,\"Elephant\":7,\"Zebra\":8,\"Cow\":9,\"Panda\":10,\n",
        "                \"Giraffe\":11,\"Dolphin\":12,\"Cat\":13,\"Deer\":14}\n",
        "data = []\n",
        "for dirname, _, filenames in os.walk(data_path):\n",
        "    for filename in filenames:\n",
        "        data.append(os.path.join(dirname, filename))"
      ],
      "metadata": {
        "execution": {
          "iopub.status.busy": "2024-05-05T13:02:57.077314Z",
          "iopub.execute_input": "2024-05-05T13:02:57.077694Z",
          "iopub.status.idle": "2024-05-05T13:02:57.474601Z",
          "shell.execute_reply.started": "2024-05-05T13:02:57.077668Z",
          "shell.execute_reply": "2024-05-05T13:02:57.473584Z"
        },
        "trusted": true,
        "id": "mvIlmAhk8axS"
      },
      "execution_count": null,
      "outputs": []
    },
    {
      "cell_type": "code",
      "source": [
        "transform = transforms.Compose([\n",
        "    transforms.Resize((120,120)),\n",
        "    transforms.RandomHorizontalFlip(0.5),\n",
        "    transforms.RandomVerticalFlip(0.5),\n",
        "    transforms.RandomRotation(90),\n",
        "    transforms.ToTensor()\n",
        "\n",
        "])"
      ],
      "metadata": {
        "execution": {
          "iopub.status.busy": "2024-05-05T13:03:00.943861Z",
          "iopub.execute_input": "2024-05-05T13:03:00.944215Z",
          "iopub.status.idle": "2024-05-05T13:03:00.949489Z",
          "shell.execute_reply.started": "2024-05-05T13:03:00.944187Z",
          "shell.execute_reply": "2024-05-05T13:03:00.948532Z"
        },
        "trusted": true,
        "id": "fn1hXf1N8axS"
      },
      "execution_count": null,
      "outputs": []
    },
    {
      "cell_type": "code",
      "source": [
        "class CustomDataset(torch.utils.data.Dataset):\n",
        "    def __init__(self, all_images, transforms=None):\n",
        "        self.all_images = all_images\n",
        "        self.transforms  = transforms\n",
        "\n",
        "    def __len__(self):\n",
        "        return len(self.all_images)\n",
        "\n",
        "    def __getitem__(self,idx):\n",
        "        image_path= self.all_images[idx]\n",
        "        image = Image.open(self.all_images[idx])\n",
        "\n",
        "        if(self.transforms != None):\n",
        "            image = self.transforms(image)\n",
        "\n",
        "        label = image_path.split(\"/\")[-2]\n",
        "        target = target_mapping[label]\n",
        "        return image,target"
      ],
      "metadata": {
        "execution": {
          "iopub.status.busy": "2024-05-05T13:03:02.949353Z",
          "iopub.execute_input": "2024-05-05T13:03:02.949723Z",
          "iopub.status.idle": "2024-05-05T13:03:02.956746Z",
          "shell.execute_reply.started": "2024-05-05T13:03:02.949693Z",
          "shell.execute_reply": "2024-05-05T13:03:02.955832Z"
        },
        "trusted": true,
        "id": "CpDycEeT8axT"
      },
      "execution_count": null,
      "outputs": []
    },
    {
      "cell_type": "code",
      "source": [
        "Custom_Dataset = CustomDataset(data, transforms= transform)\n",
        "train_dl = torch.utils.data.DataLoader(Custom_Dataset,\n",
        "                                       batch_size=16,\n",
        "                                       num_workers=4,\n",
        "                                      shuffle=True,\n",
        "                                      pin_memory=True)\n",
        "device = torch.device(\"cuda\" if torch.cuda.is_available() else \"cpu\")\n",
        "print(device)\n",
        "model = models.resnet18(weights='DEFAULT')\n",
        "\n",
        "total_in_feature = model.fc.in_features\n",
        "print(total_in_feature)\n"
      ],
      "metadata": {
        "execution": {
          "iopub.status.busy": "2024-05-05T13:03:06.720346Z",
          "iopub.execute_input": "2024-05-05T13:03:06.720724Z",
          "iopub.status.idle": "2024-05-05T13:03:07.437938Z",
          "shell.execute_reply.started": "2024-05-05T13:03:06.720692Z",
          "shell.execute_reply": "2024-05-05T13:03:07.437011Z"
        },
        "trusted": true,
        "id": "cQ-V9JWV8axT"
      },
      "execution_count": null,
      "outputs": []
    },
    {
      "cell_type": "code",
      "source": [
        "# Changing the Sequential Model\n",
        "model.fc = nn.Sequential(\n",
        "    nn.Linear(total_in_feature,256),\n",
        "    nn.ReLU(),\n",
        "    nn.Linear(256, 15),\n",
        ")\n",
        "\n",
        "model.to(device)\n",
        "criterion = nn.CrossEntropyLoss()\n",
        "optimizer = torch.optim.SGD(model.fc.parameters(),lr=0.001)"
      ],
      "metadata": {
        "execution": {
          "iopub.status.busy": "2024-05-05T13:03:15.976466Z",
          "iopub.execute_input": "2024-05-05T13:03:15.977292Z",
          "iopub.status.idle": "2024-05-05T13:03:16.143287Z",
          "shell.execute_reply.started": "2024-05-05T13:03:15.977258Z",
          "shell.execute_reply": "2024-05-05T13:03:16.142272Z"
        },
        "trusted": true,
        "id": "7-o47QJW8axU"
      },
      "execution_count": null,
      "outputs": []
    },
    {
      "cell_type": "code",
      "source": [
        "num_epochs = 100\n",
        "train_loss = []\n",
        "for epoch in range(num_epochs):\n",
        "    train_loss = 0\n",
        "    for i, (images, target) in enumerate(train_dl):\n",
        "        images = images.to(device)\n",
        "        target = target.to(device)\n",
        "\n",
        "        output = model(images)\n",
        "        loss = criterion(output, target)\n",
        "        train_loss += loss.cpu().detach().numpy()\n",
        "\n",
        "        optimizer.zero_grad()\n",
        "        loss.backward()\n",
        "        optimizer.step()\n",
        "        if (i+1)%100 ==0:\n",
        "            print(f'epoch {epoch+1} / {num_epochs}, step {i+1}/n_total_steps, loss={loss.item()}')\n",
        ""
      ],
      "metadata": {
        "execution": {
          "iopub.status.busy": "2024-05-05T13:07:03.144513Z",
          "iopub.execute_input": "2024-05-05T13:07:03.144923Z",
          "iopub.status.idle": "2024-05-05T13:10:57.325847Z",
          "shell.execute_reply.started": "2024-05-05T13:07:03.144891Z",
          "shell.execute_reply": "2024-05-05T13:10:57.324866Z"
        },
        "trusted": true,
        "id": "8rI3KAXe8axU"
      },
      "execution_count": null,
      "outputs": []
    },
    {
      "cell_type": "code",
      "source": [
        "img, tgt = Custom_Dataset.__getitem__(1000)\n",
        "img = img.unsqueeze(0)\n",
        "\n",
        "img = img.to(device)\n",
        "print(img.shape)\n",
        "\n",
        "prd = model(img)\n",
        "_, predictions = torch.max(prd, 1)\n",
        "print(prd)\n",
        "print(tgt)\n",
        "print(predictions)"
      ],
      "metadata": {
        "execution": {
          "iopub.status.busy": "2024-05-05T13:26:56.195092Z",
          "iopub.execute_input": "2024-05-05T13:26:56.195464Z",
          "iopub.status.idle": "2024-05-05T13:26:56.213809Z",
          "shell.execute_reply.started": "2024-05-05T13:26:56.195436Z",
          "shell.execute_reply": "2024-05-05T13:26:56.212974Z"
        },
        "trusted": true,
        "id": "5-wSWyAX8axV"
      },
      "execution_count": null,
      "outputs": []
    }
  ]
}