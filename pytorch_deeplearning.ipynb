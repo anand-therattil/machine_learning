{
  "nbformat": 4,
  "nbformat_minor": 0,
  "metadata": {
    "colab": {
      "provenance": [],
      "authorship_tag": "ABX9TyPyPrHByZUIpE6C3nUlRXEu",
      "include_colab_link": true
    },
    "kernelspec": {
      "name": "python3",
      "display_name": "Python 3"
    },
    "language_info": {
      "name": "python"
    }
  },
  "cells": [
    {
      "cell_type": "markdown",
      "metadata": {
        "id": "view-in-github",
        "colab_type": "text"
      },
      "source": [
        "<a href=\"https://colab.research.google.com/github/anand-therattil/machine_learning/blob/main/pytorch_deeplearning.ipynb\" target=\"_parent\"><img src=\"https://colab.research.google.com/assets/colab-badge.svg\" alt=\"Open In Colab\"/></a>"
      ]
    },
    {
      "cell_type": "markdown",
      "source": [
        "I have created this colab notebook to learn the deep learning using [PyTorch by Partrick Loeber](https://youtu.be/exaWOE8jvy8?si=AGBT7Nr61MBT9nhW)\n",
        "\n",
        "Installation of pytorch in google colab can be done using ``` !pip install torch ```\n",
        "\n",
        "To check if the pytorch is installed run this if there are no Error then the pytorch is installed successfully\n",
        "Else go the https://pytorch.org/"
      ],
      "metadata": {
        "id": "9L9WlOaNLfPh"
      }
    },
    {
      "cell_type": "code",
      "execution_count": null,
      "metadata": {
        "id": "nEJuzoTs7HiH",
        "colab": {
          "base_uri": "https://localhost:8080/"
        },
        "outputId": "69ffffdb-ca1c-4d03-cdb1-fd640682a4a5"
      },
      "outputs": [
        {
          "output_type": "execute_result",
          "data": {
            "text/plain": [
              "False"
            ]
          },
          "metadata": {},
          "execution_count": 1
        }
      ],
      "source": [
        "import torch\n",
        "torch.cuda.is_available()  # to check if cuda/ GPU is available if False then cuda is not present True if present"
      ]
    },
    {
      "cell_type": "markdown",
      "source": [
        "Basic Defining"
      ],
      "metadata": {
        "id": "r3XIVPEm0wf4"
      }
    },
    {
      "cell_type": "code",
      "source": [
        "# Random tensor\n",
        "# torch.rand(dimension,dtype )\n",
        "x = torch.rand(3)\n",
        "print(x)\n",
        "\n",
        "# Empty tensor\n",
        "# torch.empty(dimension,dtype)\n",
        "# Here empty tensor means there will be a value however it will in the value ranged in e^-10 (depends on the system )\n",
        "x = torch.empty(1,2)\n",
        "print(x)\n",
        "\n",
        "# Ones tensor\n",
        "# torch.ones(dimension,dtype)\n",
        "x = torch.ones(1,4)\n",
        "print(x)\n",
        "\n",
        "# to check the size of a tensor we can use the x.size()\n",
        "print(x.size())\n"
      ],
      "metadata": {
        "colab": {
          "base_uri": "https://localhost:8080/"
        },
        "id": "-budbU1_Af9h",
        "outputId": "61ee6abf-bd5d-49ef-f427-3b70279094fc"
      },
      "execution_count": null,
      "outputs": [
        {
          "output_type": "stream",
          "name": "stdout",
          "text": [
            "tensor([0.7581, 0.4986, 0.0113])\n",
            "tensor([[0., 0.]])\n",
            "tensor([[1., 1., 1., 1.]])\n",
            "torch.Size([1, 4])\n"
          ]
        }
      ]
    },
    {
      "cell_type": "markdown",
      "source": [
        "Basic Operations\n",
        "1. I have show for addition similar can be applicable for the\n",
        "subtraction, multiplication, division and modulus.\n",
        "2. Reshaping of the tensor using the ``` view()```"
      ],
      "metadata": {
        "id": "RVs_vJev03Yr"
      }
    },
    {
      "cell_type": "code",
      "source": [
        "x = torch.rand(2,2)\n",
        "y = torch.ones(2,2)\n",
        "\n",
        "print(x+y)\n",
        "# Or\n",
        "print(torch.add(x,y))\n",
        "\n",
        "\n",
        "# Inplace Operation\n",
        "y.add_(x) # Inplace addition\n",
        "print(y)\n",
        "\n",
        "# Reshaping of the tensor vector\n",
        "# Keep in mind that while reshaping the present dimension should match with the current dimension\n",
        "# However if the dimension is set as -1 the object automotically defines it\n",
        "print(y.view(4,1))\n",
        "print(y.view(-1,4))\n",
        "print(y.view(4,-1))"
      ],
      "metadata": {
        "colab": {
          "base_uri": "https://localhost:8080/"
        },
        "id": "QbXDNXRT00OF",
        "outputId": "50320985-e9f1-42cb-aacb-85407119731d"
      },
      "execution_count": null,
      "outputs": [
        {
          "output_type": "stream",
          "name": "stdout",
          "text": [
            "tensor([[1.9123, 1.2155],\n",
            "        [1.7478, 1.0974]])\n",
            "tensor([[1.9123, 1.2155],\n",
            "        [1.7478, 1.0974]])\n",
            "tensor([[1.9123, 1.2155],\n",
            "        [1.7478, 1.0974]])\n",
            "tensor([[1.9123],\n",
            "        [1.2155],\n",
            "        [1.7478],\n",
            "        [1.0974]])\n",
            "tensor([[1.9123, 1.2155, 1.7478, 1.0974]])\n",
            "tensor([[1.9123],\n",
            "        [1.2155],\n",
            "        [1.7478],\n",
            "        [1.0974]])\n"
          ]
        }
      ]
    },
    {
      "cell_type": "markdown",
      "source": [
        "Conversion to Numpy and vice versa"
      ],
      "metadata": {
        "id": "rpw8nMxJ64-T"
      }
    },
    {
      "cell_type": "code",
      "source": [
        "import numpy as np\n",
        "a = torch.rand(3,3)\n",
        "b = a.numpy()\n",
        "print(type(a))\n",
        "print(type(b))\n",
        "# However in this approach the if the value of a changes the value of b changes\n",
        "\n",
        "a = torch.rand(3,3)\n",
        "b = torch.from_numpy(a.numpy())\n",
        "print(type(a))\n",
        "print(type(b))\n",
        "\n",
        "# In this the one the tensor are the cpu tensor however if the tensor is on the GPU then need to convert to cpu first then can be used for the for the numpy\n",
        "if torch.cuda.is_available():\n",
        "  device = torch.device(\"cuda\")\n",
        "else:\n",
        "  device = torch.device(\"cpu\")\n",
        "a.to(device)\n",
        "z =a + b\n",
        "z.to(\"cpu\") # To make it back  to normal tensor\n",
        "z = torch.from_numpy(z.numpy())\n",
        "z = z.numpy()\n"
      ],
      "metadata": {
        "colab": {
          "base_uri": "https://localhost:8080/"
        },
        "id": "sPX13K7S1loa",
        "outputId": "51241566-353a-485d-da2c-e1fbbb15d515"
      },
      "execution_count": null,
      "outputs": [
        {
          "output_type": "stream",
          "name": "stdout",
          "text": [
            "<class 'torch.Tensor'>\n",
            "<class 'numpy.ndarray'>\n",
            "<class 'torch.Tensor'>\n",
            "<class 'torch.Tensor'>\n"
          ]
        }
      ]
    },
    {
      "cell_type": "markdown",
      "source": [
        "Calculation of Gradient through Backwards Propogation"
      ],
      "metadata": {
        "id": "OjsjV6YUgBcG"
      }
    },
    {
      "cell_type": "code",
      "source": [
        "x = torch.rand(3,requires_grad =True)\n",
        "print(x)\n",
        "\n",
        "y = x + 2\n",
        "print(y)\n",
        "\n",
        "z = y*y*2\n",
        "print(z)\n",
        "# z = z.sum()\n",
        "z.backward(torch.tensor([1,1,3]))\n",
        "\n",
        "print(x.grad)"
      ],
      "metadata": {
        "colab": {
          "base_uri": "https://localhost:8080/"
        },
        "id": "TW7Kd8KzgFnl",
        "outputId": "462a2761-d9c6-464f-ac61-8e7cc63dd2ca"
      },
      "execution_count": null,
      "outputs": [
        {
          "output_type": "stream",
          "name": "stdout",
          "text": [
            "tensor([0.1230, 0.5288, 0.7583], requires_grad=True)\n",
            "tensor([2.1230, 2.5288, 2.7583], grad_fn=<AddBackward0>)\n",
            "tensor([ 9.0140, 12.7896, 15.2160], grad_fn=<MulBackward0>)\n",
            "tensor([ 8.4919, 10.1152, 33.0992])\n"
          ]
        }
      ]
    },
    {
      "cell_type": "code",
      "source": [
        "x = torch.rand(3,requires_grad =True)\n",
        "print(x)\n",
        "\n",
        "y = x.detach() + 2\n",
        "print(y)\n",
        "\n",
        "z = y*y*2\n",
        "print(z)\n",
        "# z = z.sum()\n",
        "# z.backward(torch.tensor([1,1,3]))\n",
        "\n",
        "print(x.grad)"
      ],
      "metadata": {
        "colab": {
          "base_uri": "https://localhost:8080/"
        },
        "id": "9YhTVMyywHDx",
        "outputId": "72905348-1ba3-41d4-bb33-de3c65d80623"
      },
      "execution_count": null,
      "outputs": [
        {
          "output_type": "stream",
          "name": "stdout",
          "text": [
            "tensor([0.8013, 0.3743, 0.1006], requires_grad=True)\n",
            "tensor([2.8013, 2.3743, 2.1006])\n",
            "tensor([15.6944, 11.2744,  8.8247])\n",
            "None\n"
          ]
        }
      ]
    },
    {
      "cell_type": "code",
      "source": [
        "weights = torch.ones(4,requires_grad=True)\n",
        "print(weights)\n",
        "\n",
        "for i in range(3):\n",
        "  model_output = (weights*3).sum()\n",
        "  model_output.backward()\n",
        "  print(weights.grad)\n",
        "  weights.grad.zero_()"
      ],
      "metadata": {
        "colab": {
          "base_uri": "https://localhost:8080/"
        },
        "id": "_IBQ1CT7x9QB",
        "outputId": "fc9df491-ed19-4d6d-babf-429202e100e0"
      },
      "execution_count": null,
      "outputs": [
        {
          "output_type": "stream",
          "name": "stdout",
          "text": [
            "tensor([1., 1., 1., 1.], requires_grad=True)\n",
            "tensor([3., 3., 3., 3.])\n",
            "tensor([3., 3., 3., 3.])\n",
            "tensor([3., 3., 3., 3.])\n"
          ]
        }
      ]
    },
    {
      "cell_type": "code",
      "source": [
        "weights = torch.ones(4,requires_grad=True)\n",
        "print(weights)\n",
        "\n",
        "for i in range(3):\n",
        "  model_output = (weights*3).sum()\n",
        "  model_output.backward()\n",
        "  print(weights.grad)\n",
        "  weights.grad.zero_()"
      ],
      "metadata": {
        "id": "yHfrN4RlzJ-y",
        "outputId": "b15f5d24-7220-43c9-e00e-944d849bcb35",
        "colab": {
          "base_uri": "https://localhost:8080/"
        }
      },
      "execution_count": null,
      "outputs": [
        {
          "output_type": "stream",
          "name": "stdout",
          "text": [
            "tensor([1., 1., 1., 1.], requires_grad=True)\n",
            "tensor([3., 3., 3., 3.])\n",
            "tensor([3., 3., 3., 3.])\n",
            "tensor([3., 3., 3., 3.])\n"
          ]
        }
      ]
    },
    {
      "cell_type": "code",
      "source": [
        "import torch\n",
        "import torch.nn as nn\n",
        "\n",
        "X = torch.tensor([[1],[2],[3],[4]], dtype= torch.float32)\n",
        "Y = torch.tensor([[2],[4],[6],[8]], dtype= torch.float32)\n",
        "\n",
        "n_samples, n_features = X.shape\n",
        "print(n_samples, n_features)\n",
        "input_size, output_size  = n_features, n_features\n",
        "model = nn.Linear(input_size,output_size)\n",
        "\n",
        "learning_rate = 0.01\n",
        "n_iters = 100\n",
        "loss = nn.MSELoss()\n",
        "optimizer = torch.optim.SGD(model.parameters(),lr= learning_rate)\n",
        "\n",
        "for epoch in range(n_iters):\n",
        "  y_pred = model(X)\n",
        "\n",
        "  l = loss(Y, y_pred)\n",
        "\n",
        "  l.backward()\n",
        "\n",
        "  optimizer.step()\n",
        "\n",
        "  optimizer.zero_grad()\n",
        "\n",
        "  if(epoch %10 ==0):\n",
        "    [w,b] = model.parameters()\n",
        "    print('epoch: '+str(epoch+1)+ \" w:\" +str(w)+\" loss: \"+str(l))\n",
        "\n",
        "\n"
      ],
      "metadata": {
        "id": "d2zwq5t2tE34",
        "colab": {
          "base_uri": "https://localhost:8080/"
        },
        "outputId": "cb67b3cb-5151-4bae-fd1d-3f8e13c0926a"
      },
      "execution_count": null,
      "outputs": [
        {
          "output_type": "stream",
          "name": "stdout",
          "text": [
            "4 1\n",
            "epoch: 1 w:Parameter containing:\n",
            "tensor([[0.4791]], requires_grad=True) loss: tensor(28.2055, grad_fn=<MseLossBackward0>)\n",
            "epoch: 11 w:Parameter containing:\n",
            "tensor([[1.6973]], requires_grad=True) loss: tensor(0.7366, grad_fn=<MseLossBackward0>)\n",
            "epoch: 21 w:Parameter containing:\n",
            "tensor([[1.8950]], requires_grad=True) loss: tensor(0.0255, grad_fn=<MseLossBackward0>)\n",
            "epoch: 31 w:Parameter containing:\n",
            "tensor([[1.9285]], requires_grad=True) loss: tensor(0.0067, grad_fn=<MseLossBackward0>)\n",
            "epoch: 41 w:Parameter containing:\n",
            "tensor([[1.9355]], requires_grad=True) loss: tensor(0.0059, grad_fn=<MseLossBackward0>)\n",
            "epoch: 51 w:Parameter containing:\n",
            "tensor([[1.9381]], requires_grad=True) loss: tensor(0.0055, grad_fn=<MseLossBackward0>)\n",
            "epoch: 61 w:Parameter containing:\n",
            "tensor([[1.9401]], requires_grad=True) loss: tensor(0.0052, grad_fn=<MseLossBackward0>)\n",
            "epoch: 71 w:Parameter containing:\n",
            "tensor([[1.9419]], requires_grad=True) loss: tensor(0.0049, grad_fn=<MseLossBackward0>)\n",
            "epoch: 81 w:Parameter containing:\n",
            "tensor([[1.9436]], requires_grad=True) loss: tensor(0.0046, grad_fn=<MseLossBackward0>)\n",
            "epoch: 91 w:Parameter containing:\n",
            "tensor([[1.9453]], requires_grad=True) loss: tensor(0.0043, grad_fn=<MseLossBackward0>)\n"
          ]
        }
      ]
    },
    {
      "cell_type": "code",
      "source": [
        "import torch\n",
        "import torch.nn as nn\n",
        "\n",
        "X = torch.tensor([[1],[2],[3],[4]], dtype= torch.float32)\n",
        "Y = torch.tensor([[2],[4],[6],[8]], dtype= torch.float32)\n",
        "\n",
        "n_samples, n_features = X.shape\n",
        "print(n_samples, n_features)\n",
        "input_size, output_size  = n_features, n_features\n",
        "\n",
        "class LinearRegression(nn.Module):\n",
        "  def __init__(self, input_dim, output_dim):\n",
        "    super(LinearRegression, self).__init__()\n",
        "    self.lin = nn.Linear(input_dim, output_dim)\n",
        "\n",
        "  def forward(self,x):\n",
        "    return self.lin(x)\n",
        "\n",
        "model = LinearRegression(input_size, output_size)\n",
        "\n",
        "learning_rate = 0.01\n",
        "n_iters = 100\n",
        "loss = nn.MSELoss()\n",
        "optimizer = torch.optim.SGD(model.parameters(),lr= learning_rate)\n",
        "\n",
        "for epoch in range(n_iters):\n",
        "  y_pred = model(X)\n",
        "\n",
        "  l = loss(Y, y_pred)\n",
        "\n",
        "  l.backward()\n",
        "\n",
        "  optimizer.step()\n",
        "\n",
        "  optimizer.zero_grad()\n",
        "\n",
        "  if(epoch %10 ==0):\n",
        "    [w,b] = model.parameters()\n",
        "    print('epoch: '+str(epoch+1)+ \" w:\" +str(w)+\" loss: \"+str(l))\n"
      ],
      "metadata": {
        "id": "uPV3i31XQRpn"
      },
      "execution_count": null,
      "outputs": []
    },
    {
      "cell_type": "code",
      "source": [
        "# Linear Regression\n",
        "# Making the model\n",
        "# Defining the Loss function, Optimizer\n",
        "# Plotting of Data\n",
        "\n",
        "import torch\n",
        "import torch.nn as nn\n",
        "import numpy   as np\n",
        "from   sklearn import datasets\n",
        "import matplotlib.pyplot as plt\n",
        "\n",
        "X_numpy, y_numpy = datasets.make_regression(n_samples=100,n_features=1, noise=30, random_state=2)\n",
        "\n",
        "X = torch.from_numpy(X_numpy.astype(np.float32))\n",
        "y = torch.from_numpy(y_numpy.astype(np.float32))\n",
        "y = y.view(y.shape[0], 1)  # This step is important as it converts the data in thr ([[a],[b]]) format\n",
        "\n",
        "\n",
        "n_samples, n_features = X.shape\n",
        "input_size = n_features\n",
        "output_size = 1\n",
        "print(n_features)\n",
        "model = nn.Linear(input_size, output_size)\n",
        "\n",
        "learning_rate = 0.01\n",
        "criterion = nn.MSELoss()\n",
        "optimizer = torch.optim.SGD(model.parameters(), lr=learning_rate)\n",
        "\n",
        "num_epochs = 100\n",
        "for epoch in range(num_epochs):\n",
        "  y_pred = model(X)\n",
        "  loss = criterion(y_pred,y)\n",
        "\n",
        "  loss.backward()\n",
        "  optimizer.step()\n",
        "\n",
        "  optimizer.zero_grad()\n",
        "\n",
        "  if(epoch%10==0):\n",
        "    print(loss)\n",
        "\n",
        "\n",
        "y_pred = model(X).detach().numpy()\n",
        "plt.plot(X_numpy,y_numpy, 'ro')\n",
        "plt.plot(X_numpy,y_pred, 'b')\n",
        "plt.show()\n",
        "\n"
      ],
      "metadata": {
        "colab": {
          "base_uri": "https://localhost:8080/",
          "height": 1000
        },
        "id": "GDu4OPanBMnm",
        "outputId": "8e313223-918f-453f-8d1a-bb8e09f88e24"
      },
      "execution_count": 7,
      "outputs": [
        {
          "output_type": "stream",
          "name": "stdout",
          "text": [
            "tensor([ -32.2078,   49.1784,   63.3844,   50.9551,   76.4027,  -90.7153,\n",
            "          30.2392,  -29.7052, -139.2979,  -10.4833,   34.8504,  103.1501,\n",
            "         -25.5261,    7.5064,   52.2436,    7.0813,   76.3248,  -52.1696,\n",
            "          71.6203,   -0.2387,   17.3634,  -19.4298,  -39.7116,  -71.1997,\n",
            "          25.9363,  -65.1853,    7.9892,   25.5386,   55.3636,  -83.4897,\n",
            "          -2.1549,    4.7113,  -19.9257,  105.2798,  -25.1241,   91.4887,\n",
            "         -71.3343,    7.5929,    1.1283,   74.0531, -119.6955,   -6.7114,\n",
            "         -78.1317,    0.4687,   -2.0570,  -26.2594,   97.4578,  -36.0526,\n",
            "         -16.9690,   48.6424,  -51.2922,  -21.4097,  -16.6979,   41.2863,\n",
            "        -101.5724,  110.4859,   31.7143,   61.3287,  -55.9637,  -29.1386,\n",
            "          34.4989, -104.1807,   -6.9045,  -42.9082,   -2.6119,   22.9039,\n",
            "         101.8158,  -41.1953, -169.6185,  -12.6080,   49.3106,   81.9036,\n",
            "         -46.3425,  -34.0442, -146.5275,   63.2528,  -85.2482,  -96.5124,\n",
            "         -32.7796,   41.6921,   -0.5854,   32.6013,  -88.9943,   32.2437,\n",
            "          27.0925,   -9.6306, -141.7740,  -29.5823,   76.6069,    9.2156,\n",
            "          18.6744,  -80.1374,  115.7744,  -34.3231,  166.7402, -127.1505,\n",
            "        -103.4458,    5.6686,  -36.7935,   -5.7888])\n",
            "100\n",
            "tensor([[ -32.2078],\n",
            "        [  49.1784],\n",
            "        [  63.3844],\n",
            "        [  50.9551],\n",
            "        [  76.4027],\n",
            "        [ -90.7153],\n",
            "        [  30.2392],\n",
            "        [ -29.7052],\n",
            "        [-139.2979],\n",
            "        [ -10.4833],\n",
            "        [  34.8504],\n",
            "        [ 103.1501],\n",
            "        [ -25.5261],\n",
            "        [   7.5064],\n",
            "        [  52.2436],\n",
            "        [   7.0813],\n",
            "        [  76.3248],\n",
            "        [ -52.1696],\n",
            "        [  71.6203],\n",
            "        [  -0.2387],\n",
            "        [  17.3634],\n",
            "        [ -19.4298],\n",
            "        [ -39.7116],\n",
            "        [ -71.1997],\n",
            "        [  25.9363],\n",
            "        [ -65.1853],\n",
            "        [   7.9892],\n",
            "        [  25.5386],\n",
            "        [  55.3636],\n",
            "        [ -83.4897],\n",
            "        [  -2.1549],\n",
            "        [   4.7113],\n",
            "        [ -19.9257],\n",
            "        [ 105.2798],\n",
            "        [ -25.1241],\n",
            "        [  91.4887],\n",
            "        [ -71.3343],\n",
            "        [   7.5929],\n",
            "        [   1.1283],\n",
            "        [  74.0531],\n",
            "        [-119.6955],\n",
            "        [  -6.7114],\n",
            "        [ -78.1317],\n",
            "        [   0.4687],\n",
            "        [  -2.0570],\n",
            "        [ -26.2594],\n",
            "        [  97.4578],\n",
            "        [ -36.0526],\n",
            "        [ -16.9690],\n",
            "        [  48.6424],\n",
            "        [ -51.2922],\n",
            "        [ -21.4097],\n",
            "        [ -16.6979],\n",
            "        [  41.2863],\n",
            "        [-101.5724],\n",
            "        [ 110.4859],\n",
            "        [  31.7143],\n",
            "        [  61.3287],\n",
            "        [ -55.9637],\n",
            "        [ -29.1386],\n",
            "        [  34.4989],\n",
            "        [-104.1807],\n",
            "        [  -6.9045],\n",
            "        [ -42.9082],\n",
            "        [  -2.6119],\n",
            "        [  22.9039],\n",
            "        [ 101.8158],\n",
            "        [ -41.1953],\n",
            "        [-169.6185],\n",
            "        [ -12.6080],\n",
            "        [  49.3106],\n",
            "        [  81.9036],\n",
            "        [ -46.3425],\n",
            "        [ -34.0442],\n",
            "        [-146.5275],\n",
            "        [  63.2528],\n",
            "        [ -85.2482],\n",
            "        [ -96.5124],\n",
            "        [ -32.7796],\n",
            "        [  41.6921],\n",
            "        [  -0.5854],\n",
            "        [  32.6013],\n",
            "        [ -88.9943],\n",
            "        [  32.2437],\n",
            "        [  27.0925],\n",
            "        [  -9.6306],\n",
            "        [-141.7740],\n",
            "        [ -29.5823],\n",
            "        [  76.6069],\n",
            "        [   9.2156],\n",
            "        [  18.6744],\n",
            "        [ -80.1374],\n",
            "        [ 115.7744],\n",
            "        [ -34.3231],\n",
            "        [ 166.7402],\n",
            "        [-127.1505],\n",
            "        [-103.4458],\n",
            "        [   5.6686],\n",
            "        [ -36.7935],\n",
            "        [  -5.7888]])\n",
            "1\n",
            "tensor(4369.4077, grad_fn=<MseLossBackward0>)\n",
            "tensor(3092.0476, grad_fn=<MseLossBackward0>)\n",
            "tensor(2272.5977, grad_fn=<MseLossBackward0>)\n",
            "tensor(1746.0387, grad_fn=<MseLossBackward0>)\n",
            "tensor(1407.1027, grad_fn=<MseLossBackward0>)\n",
            "tensor(1188.5465, grad_fn=<MseLossBackward0>)\n",
            "tensor(1047.3551, grad_fn=<MseLossBackward0>)\n",
            "tensor(955.9688, grad_fn=<MseLossBackward0>)\n",
            "tensor(896.7034, grad_fn=<MseLossBackward0>)\n",
            "tensor(858.1922, grad_fn=<MseLossBackward0>)\n"
          ]
        },
        {
          "output_type": "display_data",
          "data": {
            "text/plain": [
              "<Figure size 640x480 with 1 Axes>"
            ],
            "image/png": "[encoded data removed]"
          },
          "metadata": {}
        }
      ]
    },
    {
      "cell_type": "code",
      "source": [
        "import torch\n",
        "import torch.nn as nn\n",
        "import numpy as np\n",
        "from sklearn import datasets\n",
        "import matplotlib.pyplot as plt\n",
        "\n",
        "# 0) Prepare data\n",
        "X_numpy, y_numpy = datasets.make_regression(n_samples=100, n_features=1, noise=20, random_state=4)\n",
        "\n",
        "# cast to float Tensor\n",
        "X = torch.from_numpy(X_numpy.astype(np.float32))\n",
        "y = torch.from_numpy(y_numpy.astype(np.float32))\n",
        "y = y.view(y.shape[0], 1)\n",
        "\n",
        "n_samples, n_features = X.shape\n",
        "\n",
        "# 1) Model\n",
        "# Linear model f = wx + b\n",
        "input_size = n_features\n",
        "output_size = 1\n",
        "model = nn.Linear(input_size, output_size)\n",
        "\n",
        "# 2) Loss and optimizer\n",
        "learning_rate = 0.01\n",
        "criterion = nn.MSELoss()\n",
        "optimizer = torch.optim.SGD(model.parameters(), lr=learning_rate)\n",
        "\n",
        "# 3) Training loop\n",
        "num_epochs = 100\n",
        "for epoch in range(num_epochs):\n",
        "    # Forward pass and loss\n",
        "    y_predicted = model(X)\n",
        "    loss = criterion(y_predicted, y)\n",
        "\n",
        "    # Backward pass and update\n",
        "    loss.backward()\n",
        "    optimizer.step()\n",
        "\n",
        "    # zero grad before new step\n",
        "    optimizer.zero_grad()\n",
        "\n",
        "    if (epoch+1) % 10 == 0:\n",
        "        print(f'epoch: {epoch+1}, loss = {loss.item():.4f}')\n",
        "\n",
        "# Plot\n",
        "predicted = model(X).detach().numpy()\n",
        "\n",
        "plt.plot(X_numpy, y_numpy, 'ro')\n",
        "plt.plot(X_numpy, predicted, 'b')\n",
        "plt.show()"
      ],
      "metadata": {
        "colab": {
          "base_uri": "https://localhost:8080/",
          "height": 604
        },
        "id": "nsBXLHCpBYm6",
        "outputId": "4aa60741-ca29-407d-ec4a-8e751fb19534"
      },
      "execution_count": 23,
      "outputs": [
        {
          "output_type": "stream",
          "name": "stdout",
          "text": [
            "epoch: 10, loss = 4012.5867\n",
            "epoch: 20, loss = 2829.2053\n",
            "epoch: 30, loss = 2022.3766\n",
            "epoch: 40, loss = 1472.1647\n",
            "epoch: 50, loss = 1096.8743\n",
            "epoch: 60, loss = 840.8431\n",
            "epoch: 70, loss = 666.1392\n",
            "epoch: 80, loss = 546.9058\n",
            "epoch: 90, loss = 465.5154\n",
            "epoch: 100, loss = 409.9467\n"
          ]
        },
        {
          "output_type": "display_data",
          "data": {
            "text/plain": [
              "<Figure size 640x480 with 1 Axes>"
            ],
            "image/png": "[encoded data removed]"
          },
          "metadata": {}
        }
      ]
    }
  ]
}